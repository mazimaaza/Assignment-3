{
 "cells": [
  {
   "cell_type": "markdown",
   "id": "1ad4c3bc",
   "metadata": {},
   "source": [
    "1. Why are functions advantageous to have in your programs?\n",
    "Ans: It makes programs easier, shorter,and also easy to read and update.\n",
    "\n",
    "2. When does the code in a function run: when it's  specified or when it's called?\n",
    "Ans: The code in a function run when it's called.\n",
    "\n",
    "3. What statement creates a function?\n",
    "Ans: The def statement creates a function.\n",
    "     Eg : def test()\n",
    "     \n",
    "4. What is the difference between a function and a function call?\n",
    "Ans: function - It consists of def statement and the code in it's def clause.\n",
    "     function call - The code execute when the function is called, within the function call it gives return value.\n",
    "     \n",
    "5. How many global scopes are there in a Python program? How many local scopes?\n",
    "Ans: There is only one global scope are there in a python program, and a local scope is created when a function is called.\n",
    "\n",
    "6. What happens to variables in a local scope when the function call returns?\n",
    "Ans: When the function call returns, the local scope is destroyed and all the variables in it are disappear.\n",
    "\n",
    "7. What is the concept of a return value? Is it possible to have a return value in an expression?\n",
    "Ans: A return value is the value where the function call evaluates. Yes, a return value can be used as a part of an expression.\n",
    "\n",
    "8. If a function does not have a return statement, what is the return value of a call to that function?\n",
    "Ans:  If a function does not have a return statement then the return value of a call to that function is None.\n",
    "\n",
    "9. How do you make a function variable refer to the global variable?\n",
    "Ans: It force a variable in a function to refer to the global variable.\n",
    "\n",
    "10. What is the data type of None?\n",
    "Ans: The data type of None is NoneType.\n",
    "\n",
    "11. What does the sentence import areallyourpetsnamederic do?\n",
    "Ans: import statement import a module name but this import areallyourpetsnamederic is not a real python module.\n",
    "\n",
    "12. If you had a bacon() feature in a spam module, what would you call it after importing spam?\n",
    "Ans: spam.bacon()\n",
    "\n",
    "13. What can you do to save a programme from crashing if it encounters an error?\n",
    "Ans: I can save a program from crashing if it encounters an error by using try clause.\n",
    "\n",
    "14. What is the purpose of the try clause? What is the purpose of the except clause?\n",
    "Ans: try clause - The code which cause an error it goes in a try clause.\n",
    "     except clause - The code that executes if an error occurs then it goes to except clause."
   ]
  }
 ],
 "metadata": {
  "kernelspec": {
   "display_name": "Python 3 (ipykernel)",
   "language": "python",
   "name": "python3"
  },
  "language_info": {
   "codemirror_mode": {
    "name": "ipython",
    "version": 3
   },
   "file_extension": ".py",
   "mimetype": "text/x-python",
   "name": "python",
   "nbconvert_exporter": "python",
   "pygments_lexer": "ipython3",
   "version": "3.9.7"
  }
 },
 "nbformat": 4,
 "nbformat_minor": 5
}
